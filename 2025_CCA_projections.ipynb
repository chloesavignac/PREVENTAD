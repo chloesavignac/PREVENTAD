{
 "cells": [
  {
   "cell_type": "markdown",
   "id": "46307286",
   "metadata": {},
   "source": [
    "# Projecting Regression coeffcients back onto the brain"
   ]
  },
  {
   "cell_type": "code",
   "execution_count": 1,
   "id": "a15d404e",
   "metadata": {},
   "outputs": [
    {
     "name": "stdout",
     "output_type": "stream",
     "text": [
      "The scikit-learn version is 0.23.2.\n"
     ]
    }
   ],
   "source": [
    "import sklearn\n",
    "print('The scikit-learn version is {}.'.format(sklearn.__version__))\n",
    "from sklearn.cross_decomposition import CCA\n",
    "import joblib\n",
    "\n",
    "from nilearn import datasets as ds\n",
    "from nilearn.maskers import NiftiLabelsMasker, NiftiMasker\n",
    "from nilearn.image import resample_img, index_img\n",
    "import nilearn.datasets as ds\n",
    "\n",
    "import pandas as pd\n",
    "import numpy as np"
   ]
  },
  {
   "cell_type": "code",
   "execution_count": 2,
   "id": "9fae26ca",
   "metadata": {},
   "outputs": [
    {
     "name": "stderr",
     "output_type": "stream",
     "text": [
      "/Users/chloesavignac/.conda/envs/old_python/lib/python3.8/site-packages/sklearn/utils/deprecation.py:143: FutureWarning: The sklearn.cross_decomposition.cca_ module is  deprecated in version 0.22 and will be removed in version 0.24. The corresponding classes / functions should instead be imported from sklearn.cross_decomposition. Anything that cannot be imported from sklearn.cross_decomposition is now part of the private API.\n",
      "  warnings.warn(message, FutureWarning)\n",
      "/Users/chloesavignac/.conda/envs/old_python/lib/python3.8/site-packages/sklearn/base.py:329: UserWarning: Trying to unpickle estimator CCA from version 0.21.3 when using version 0.23.2. This might lead to breaking code or invalid results. Use at your own risk.\n",
      "  warnings.warn(\n"
     ]
    }
   ],
   "source": [
    "# Loading will fail with newer sklearn versions > 0.24\n",
    "pop_cca = joblib.load('../org_CCA_k25_lonely_full')"
   ]
  },
  {
   "cell_type": "code",
   "execution_count": 3,
   "id": "330c3efc",
   "metadata": {},
   "outputs": [
    {
     "name": "stdout",
     "output_type": "stream",
     "text": [
      "25.05.13\n"
     ]
    }
   ],
   "source": [
    "date = '25.05.13'\n",
    "print(date)\n",
    "\n",
    "# Load regression coefficients for males and females\n",
    "tables_m = pd.read_csv(f'{date}/tables_m.csv')\n",
    "tables_f = pd.read_csv(f'{date}/tables_f.csv')\n",
    "\n",
    "# Store interaction terms \n",
    "# MALES\n",
    "interactions_m = tables_m[['HC-DN_pattern_PLS_C1', 'HC-DN_pattern_PLS_C2', 'HC-DN_pattern_PLS_C3']].reset_index(drop=True)\n",
    "# Fix index \n",
    "interactions_m.index=interactions_m.index+1\n",
    "# Save\n",
    "interactions_m.to_csv(f'{date}/interactions_m_age_not_regressed_2025.csv')\n",
    "int_m = pd.read_csv(f'{date}/interactions_m_age_not_regressed_2025.csv',index_col=0)\n",
    "\n",
    "# Store interaction terms \n",
    "# FEMALES\n",
    "interactions_f = tables_f[['HC-DN_pattern_PLS_C1', 'HC-DN_pattern_PLS_C2', 'HC-DN_pattern_PLS_C3']].reset_index(drop=True)\n",
    "# Fix index \n",
    "interactions_f.index=interactions_f.index+1\n",
    "# Save\n",
    "interactions_f.to_csv(f'{date}/interactions_f_age_not_regressed_2025.csv')\n",
    "int_f = pd.read_csv(f'{date}/interactions_f_age_not_regressed_2025.csv',index_col=0)"
   ]
  },
  {
   "cell_type": "code",
   "execution_count": 4,
   "id": "773d3705",
   "metadata": {},
   "outputs": [],
   "source": [
    "def inverse_transform(self, X, Y=None):\n",
    "    # From pls space to original space\n",
    "    X_reconstructed = np.matmul(X, self.x_loadings_.T)\n",
    "\n",
    "    # From pls space to original space\n",
    "    Y_reconstructed = np.matmul(Y, self.y_loadings_.T)\n",
    "\n",
    "    return X_reconstructed, Y_reconstructed"
   ]
  },
  {
   "cell_type": "code",
   "execution_count": 5,
   "id": "31ad89fd",
   "metadata": {},
   "outputs": [],
   "source": [
    "df = pd.read_csv('../CCA_exp_PREVENTAD.csv', index_col=0)"
   ]
  },
  {
   "cell_type": "code",
   "execution_count": 6,
   "id": "2bb910ac",
   "metadata": {},
   "outputs": [],
   "source": [
    "cca_cols = []\n",
    "for i in range(1,51):\n",
    "    cca_cols.append(f\"{i}\")"
   ]
  },
  {
   "cell_type": "code",
   "execution_count": 7,
   "id": "d57ee446",
   "metadata": {},
   "outputs": [
    {
     "name": "stdout",
     "output_type": "stream",
     "text": [
      "Sex_Male\n",
      "0    250\n",
      "1    182\n",
      "Name: count, dtype: int64\n"
     ]
    }
   ],
   "source": [
    "print(df.Sex_Male.value_counts())"
   ]
  },
  {
   "cell_type": "code",
   "execution_count": 8,
   "id": "651d7df2",
   "metadata": {},
   "outputs": [],
   "source": [
    "# Store id for males and females\n",
    "id_f = np.where(df.Sex_Female==1)\n",
    "id_m = np.where(df.Sex_Male==1)\n",
    "id_all = df.index"
   ]
  },
  {
   "cell_type": "code",
   "execution_count": 9,
   "id": "95c433e5",
   "metadata": {},
   "outputs": [
    {
     "name": "stdout",
     "output_type": "stream",
     "text": [
      "HC shape: (3, 25, 182)\n",
      "DN shape: (3, 25, 182)\n"
     ]
    }
   ],
   "source": [
    "# -----------------------------\n",
    "# Inverse transform for MALES\n",
    "# -----------------------------\n",
    "\n",
    "# Split into HC and DN features for males\n",
    "hc = df[cca_cols].iloc[id_m].iloc[:, :25]\n",
    "dn = df[cca_cols].iloc[id_m].iloc[:, 25:]\n",
    "\n",
    "# Compute element-wise interactions between HC and intermediate components\n",
    "hc_interactions = []\n",
    "for int_component in int_m.columns:\n",
    "    interactions = []\n",
    "    for col in hc.columns:\n",
    "        interaction = hc[col] * int_m[int_component][int(col)]\n",
    "        interactions.append(interaction)\n",
    "    hc_interactions.append(interactions)\n",
    "\n",
    "hc_int_m = np.array(hc_interactions)\n",
    "print(\"HC shape:\", hc_int_m.shape)\n",
    "\n",
    "# Compute element-wise interactions between DN and intermediate components\n",
    "dn_interactions = []\n",
    "for int_component in int_m.columns:\n",
    "    interactions = []\n",
    "    for col in dn.columns:\n",
    "        interaction = dn[col] * int_m[int_component][int(col)]\n",
    "        interactions.append(interaction)\n",
    "    dn_interactions.append(interactions)\n",
    "\n",
    "dn_int_m = np.array(dn_interactions)\n",
    "print(\"DN shape:\", dn_int_m.shape)\n",
    "\n",
    "# Inverse transform and save the outputs for each of the first 3 components\n",
    "for i in range(3):\n",
    "    hc_recon, dn_recon = inverse_transform(pop_cca, hc_int_m[i].T, dn_int_m[i].T)\n",
    "\n",
    "    np.savetxt(f'{date}/brain_imaging/interactions_pls_c{i+1}_hc_males_age_not_regressed_2025.csv', hc_recon, delimiter=\",\")\n",
    "    np.savetxt(f'{date}/brain_imaging/interactions_pls_c{i+1}_dn_males_age_not_regressed_2025.csv', dn_recon, delimiter=\",\")\n"
   ]
  },
  {
   "cell_type": "code",
   "execution_count": 10,
   "id": "ca90fb07",
   "metadata": {},
   "outputs": [
    {
     "name": "stdout",
     "output_type": "stream",
     "text": [
      "HC shape: (3, 25, 250)\n",
      "DN shape: (3, 25, 250)\n"
     ]
    }
   ],
   "source": [
    "# -------------------------------\n",
    "# Inverse transform for FEMALES\n",
    "# -------------------------------\n",
    "\n",
    "# Split into HC and DN features for females\n",
    "hc = df[cca_cols].iloc[id_f].iloc[:, :25]\n",
    "dn = df[cca_cols].iloc[id_f].iloc[:, 25:]\n",
    "\n",
    "# Compute element-wise interactions between HC and intermediate components\n",
    "hc_interactions = []\n",
    "for int_component in int_f.columns:\n",
    "    interactions = []\n",
    "    for col in hc.columns:\n",
    "        interaction = hc[col] * int_f[int_component][int(col)]\n",
    "        interactions.append(interaction)\n",
    "    hc_interactions.append(interactions)\n",
    "\n",
    "hc_int_f = np.array(hc_interactions)\n",
    "print(\"HC shape:\", hc_int_f.shape)\n",
    "\n",
    "# Compute element-wise interactions between DN and intermediate components\n",
    "dn_interactions = []\n",
    "for int_component in int_f.columns:\n",
    "    interactions = []\n",
    "    for col in dn.columns:\n",
    "        interaction = dn[col] * int_f[int_component][int(col)]\n",
    "        interactions.append(interaction)\n",
    "    dn_interactions.append(interactions)\n",
    "\n",
    "dn_int_f = np.array(dn_interactions)\n",
    "print(\"DN shape:\", dn_int_f.shape)\n",
    "\n",
    "# Inverse transform and save the outputs for each of the first 3 components\n",
    "for i in range(3):\n",
    "    hc_recon, dn_recon = inverse_transform(pop_cca, hc_int_f[i].T, dn_int_f[i].T)\n",
    "\n",
    "    np.savetxt(f'{date}/brain_imaging/interactions_pls_c{i+1}_hc_females_age_not_regressed_2025.csv', hc_recon, delimiter=\",\")\n",
    "    np.savetxt(f'{date}/brain_imaging/interactions_pls_c{i+1}_dn_females_age_not_regressed_2025.csv', dn_recon, delimiter=\",\")\n"
   ]
  }
 ],
 "metadata": {
  "kernelspec": {
   "display_name": "Python 3",
   "language": "python",
   "name": "python3"
  },
  "language_info": {
   "codemirror_mode": {
    "name": "ipython",
    "version": 3
   },
   "file_extension": ".py",
   "mimetype": "text/x-python",
   "name": "python",
   "nbconvert_exporter": "python",
   "pygments_lexer": "ipython3",
   "version": "3.8.20"
  }
 },
 "nbformat": 4,
 "nbformat_minor": 5
}
